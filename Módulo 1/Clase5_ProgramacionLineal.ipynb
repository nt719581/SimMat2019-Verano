{
 "cells": [
  {
   "cell_type": "markdown",
   "metadata": {},
   "source": [
    "# Programación lineal"
   ]
  },
  {
   "cell_type": "markdown",
   "metadata": {},
   "source": [
    "> La programación lineal es el campo de la optimización matemática dedicado a maximizar o minimizar (optimizar) funciones lineales, denominada función objetivo, de tal forma que las variables de dicha función estén sujetas a una serie de restricciones expresadas mediante un sistema de ecuaciones o inecuaciones también lineales.\n",
    "\n",
    "\n",
    "<img style=\"float: right; margin: 0px 0px 15px 15px;\" src=\"https://upload.wikimedia.org/wikipedia/commons/thumb/0/0c/Linear_Programming_Feasible_Region.svg/2000px-Linear_Programming_Feasible_Region.svg.png\" width=\"400px\" height=\"125px\" />\n",
    "\n",
    "<img style=\"float: center\" src=\"https://upload.wikimedia.org/wikipedia/commons/thumb/e/ef/3dpoly.svg/220px-3dpoly.svg.png\" width=\"350px\" height=\"125px\" />\n",
    "\n",
    "\n",
    "**Referencias:**\n",
    "- https://es.wikipedia.org/wiki/Programaci%C3%B3n_lineal\n",
    "- https://docs.scipy.org/doc/scipy-0.18.1/reference/optimize.html\n",
    "- http://bdigital.unal.edu.co/5037/4/guillermojimenezlozano.2006_Parte1.pdf "
   ]
  },
  {
   "cell_type": "markdown",
   "metadata": {},
   "source": [
    "## 1. Apuntes históricos\n",
    "\n",
    "<img style=\"float: right\" src=\"https://upload.wikimedia.org/wikipedia/commons/5/5e/JohnvonNeumann-LosAlamos.gif\" width=\"200px\" height=\"125px\" />\n",
    "\n",
    "\n",
    "- 1826:\tJoseph Fourier anticipa la programación lineal. Carl Friedrich Gauss resuelve ecuaciones lineales por eliminación \"gaussiana\".\n",
    "- 1902:\tGyula Farkas concibe un método para resolver sistemas de inecuaciones.\n",
    "- Es hasta la Segunda Guerra Mundial que se plantea la programación lineal como un modelo matemático para planificar gastos y retornos, de modo que se reduzcan costos de guerra y aumentar pérdidas del enemigo. Secreto hasta 1947 (posguerra).\n",
    "- 1947:\tGeorge Dantzig publica el algoritmo simplex y John von Neumann desarrolló la teoría de la dualidad. Se sabe que Leonid Kantoróvich también formuló la teoría en forma independiente.\n",
    "- Fue usado por muchas industrias en la planificación diaria.\n",
    "\n",
    "**Hasta acá, tiempos exponenciales de solución. Lo siguiente, tiempo polinomial.**\n",
    "\n",
    "- 1979: Leonid Khachiyan, diseñó el llamado Algoritmo del elipsoide, a través del cual demostró que el problema de la programación lineal es resoluble de manera eficiente, es decir, en tiempo polinomial.\n",
    "- 1984: Narendra Karmarkar introduce el método del punto interior para resolver problemas de programación lineal.\n",
    "\n",
    "<img style=\"float: center\" src=\"https://upload.wikimedia.org/wikipedia/commons/thumb/e/ef/Simplex-description-en.svg/240px-Simplex-description-en.svg.png\" width=\"200px\" height=\"125px\" />"
   ]
  },
  {
   "cell_type": "markdown",
   "metadata": {},
   "source": [
    "## 2. Motivación\n",
    "\n",
    "Ya la clase pasada habíamos mencionado que cuando se quería optimizar una función de varias variables con restricciones, se podía aplicar siempre el método de Multiplicadores de Lagrange. Sin embargo, este método es computacionalmente muy complejo conforme crece el número de variables.\n",
    "\n",
    "Por tanto, cuando la función a optimizar y las restricciones son de caracter lineal, los métodos de solución que se pueden desarrollar son computacionalmente eficientes, por lo que es útil realizar la distinción."
   ]
  },
  {
   "cell_type": "markdown",
   "metadata": {},
   "source": [
    "## 3. Problemas de programación lineal\n",
    "\n",
    "### 3.1. Ejemplo básico\n",
    "Una multinacional farmacéutica desea fabricar un compuesto nutritivo a base de dos productos A y B.  El producto A contiene  $30\\%$ de proteínas,  un $1\\%$ de grasas y un  $10\\%$ de azúcares.  El producto B  contiene  un  $5\\%$  de proteínas,  un  $7\\%$ de grasas  y un  $10\\%$  de  azúcares.\n",
    "\n",
    "El compuesto tiene que tener,  al menos, $25g$ de proteínas,  $6g$ de grasas y $30g$ de azúcares.  El coste del producto A es de $0.6$ u.m./g  y el de B es de $0.2$  u.m./g\n",
    "\n",
    "Se desea encontrar la cantidad en gramos de cada producto para que el coste total sea mínimo.\n",
    "\n",
    "Formular el problema de decidir cuánto hacer de cada producto como un problema de programación lineal."
   ]
  },
  {
   "cell_type": "markdown",
   "metadata": {},
   "source": [
    "#### Solución\n",
    "\n",
    "Sean:\n",
    "- $x_A$: la cantidad de gramos de A a ser producidas, y\n",
    "- $x_B$: la cantidad de gramos de B a ser producidas en la semana.\n",
    "\n",
    "Notar que lo que se quiere es minimizar $0.6x_A+0.2x_B$.\n",
    "\n",
    "Restricciones:\n",
    "1. El compuesto debe tener **al menos** $25 g$ de proteína: $30\\%x_A+5\\%x_B\\geq 25 \\Rightarrow 0.3x_A+0.05x_B\\geq 25$.\n",
    "2. El compuesto debe tener **al menos** $6 g$ de grasa: $1\\%x_A+7\\%x_B\\geq 6 \\Rightarrow 0.01x_A+0.07x_B\\geq 6$.\n",
    "3. El compuesto debe tener **al menos** $30 g$ de azúcares: $10\\%x_A+10\\%x_B\\geq 30 \\Rightarrow 0.1x_A+0.1x_B\\geq 30$.\n",
    "\n",
    "Finalmente, el problema puede ser expresado en la forma explicada como:\n",
    "\\begin{equation}\n",
    "\\begin{array}{ll}\n",
    "\\min_{x_A,x_B} & 0.6x_A+0.2x_B \\\\\n",
    "\\text{s. a. }  & -0.3x_A-0.05x_B\\leq -25 \\\\\n",
    "               & -0.01x_A-0.07x_B\\leq -6 \\\\\n",
    "               & -0.1x_A-0.1x_B\\leq -30,\n",
    "\\end{array}\n",
    "\\end{equation}\n",
    "\n",
    "o, eqivalentemente \n",
    "\\begin{equation}\n",
    "\\begin{array}{ll}\n",
    "\\min_{\\boldsymbol{x}} & \\boldsymbol{c}^\\top\\boldsymbol{x} \\\\\n",
    "\\text{s. a. }        & \\boldsymbol{A}_{eq}\\boldsymbol{x}=\\boldsymbol{b}_{eq} \\\\\n",
    "                     & \\boldsymbol{A}\\boldsymbol{x}\\leq\\boldsymbol{b},\n",
    "\\end{array}\n",
    "\\end{equation}\n",
    "con\n",
    "- $\\boldsymbol{c}=\\left[0.6 \\quad 0.2\\right]^\\top$,\n",
    "- $\\boldsymbol{A}=\\left[\\begin{array}{cc}-0.3 & -0.05 \\\\ -0.01 & -0.07\\\\ -0.1 & -0.1\\end{array}\\right]$, y\n",
    "- $\\boldsymbol{b}=\\left[-25 \\quad -6\\quad -30\\right]^\\top$.\n",
    "\n",
    "Preferiremos, en adelante, la notación vectorial/matricial."
   ]
  },
  {
   "cell_type": "markdown",
   "metadata": {},
   "source": [
    "### 3.2. Ejemplo básico 2\n",
    "Una  fábrica  de  carrocerías  de  automóviles  y camiones  tiene  dos naves. \n",
    "\n",
    "+ En  la nave A,  para  hacer  la  carrocería  de  un  camión,  se  invierten  siete  días-operario,  para  fabricar  la  de  un  coche  se  precisan dos días-operario.\n",
    "\n",
    "+ En la nave B se invierten tres días operario tanto en carrocerías de camión como de coche. \n",
    "\n",
    "Por limitaciones de mano de obra y maquinaria, la nave A dispone de $300$ días operario, y la nave B de $270$ días-operario.\n",
    "\n",
    "Si los beneficios que se obtienen por cada camión son de $600$ u.m y por  cada  automóvil  $200$ u.m,  ¿cuántas  unidades  de  cada  uno  se deben  producir  para maximizar las  ganancias? "
   ]
  },
  {
   "cell_type": "markdown",
   "metadata": {},
   "source": [
    "### 3.3. En general\n",
    "De acuerdo a lo descrito anteriormente, un problema de programación lineal puede escribirse en la siguiente forma:\n",
    "\n",
    "\\begin{equation}\n",
    "\\begin{array}{ll}\n",
    "\\min_{x_1,\\dots,x_n} & c_1x_1+\\dots+c_nx_n \\\\\n",
    "\\text{s. a. }        & a^{eq}_{j,1}x_1+\\dots+a^{eq}_{j,n}x_n=b^{eq}_j \\text{ para } 1\\leq j\\leq m_1 \\\\\n",
    "                     & a_{k,1}x_1+\\dots+a_{k,n}x_n\\leq b_k \\text{ para } 1\\leq k\\leq m_2,\n",
    "\\end{array}\n",
    "\\end{equation}\n",
    "donde:\n",
    "- $x_i$ para $i=1,\\dots,n$ son las incógnitas o variables de decisión,\n",
    "- $c_i$ para $i=1,\\dots,n$ son los coeficientes de la función a optimizar,\n",
    "- $a^{eq}_{j,i}$ para $j=1,\\dots,m_1$ e $i=1,\\dots,n$, son los coeficientes de la restricción de igualdad,\n",
    "- $a_{k,i}$ para $k=1,\\dots,m_2$ e $i=1,\\dots,n$, son los coeficientes de la restricción de desigualdad,\n",
    "- $b^{eq}_j$ para $j=1,\\dots,m_1$ son valores conocidos que deben ser respetados estrictamente, y\n",
    "- $b_k$ para $k=1,\\dots,m_2$ son valores conocidos que no deben ser superados.\n",
    "\n",
    "Equivalentemente, el problema puede escribirse como\n",
    "\n",
    "\\begin{equation}\n",
    "\\begin{array}{ll}\n",
    "\\min_{\\boldsymbol{x}} & \\boldsymbol{c}^\\top\\boldsymbol{x} \\\\\n",
    "\\text{s. a. }        & \\boldsymbol{A}_{eq}\\boldsymbol{x}=\\boldsymbol{b}_{eq} \\\\\n",
    "                     & \\boldsymbol{A}\\boldsymbol{x}\\leq\\boldsymbol{b},\n",
    "\\end{array}\n",
    "\\end{equation}\n",
    "donde:\n",
    "- $\\boldsymbol{x}=\\left[x_1\\quad\\dots\\quad x_n\\right]^\\top$,\n",
    "- $\\boldsymbol{c}=\\left[c_1\\quad\\dots\\quad c_n\\right]^\\top$,\n",
    "- $\\boldsymbol{A}_{eq}=\\left[\\begin{array}{ccc}a^{eq}_{1,1} & \\dots & a^{eq}_{1,n}\\\\ \\vdots & \\ddots & \\vdots\\\\ a^{eq}_{m_1,1} & \\dots & a^{eq}_{m_1,n}\\end{array}\\right]$,\n",
    "- $\\boldsymbol{A}=\\left[\\begin{array}{ccc}a_{1,1} & \\dots & a_{1,n}\\\\ \\vdots & \\ddots & \\vdots\\\\ a_{m_2,1} & \\dots & a_{m_2,n}\\end{array}\\right]$,\n",
    "- $\\boldsymbol{b}_{eq}=\\left[b^{eq}_1\\quad\\dots\\quad b^{eq}_{m_1}\\right]^\\top$, y\n",
    "- $\\boldsymbol{b}=\\left[b_1\\quad\\dots\\quad b_{m_2}\\right]^\\top$.\n",
    "\n",
    "**Nota:** el problema $\\max_{\\boldsymbol{x}}\\boldsymbol{g}(\\boldsymbol{x})$ es equivalente a $\\min_{\\boldsymbol{x}}-\\boldsymbol{g}(\\boldsymbol{x})$."
   ]
  },
  {
   "cell_type": "markdown",
   "metadata": {},
   "source": [
    "#### Bueno, y una vez planteado, ¿cómo se resuelve el problema?"
   ]
  },
  {
   "cell_type": "markdown",
   "metadata": {},
   "source": [
    "Este problema está sencillo pues solo es en dos variables. La solución gráfica es válida."
   ]
  },
  {
   "cell_type": "code",
   "execution_count": 1,
   "metadata": {},
   "outputs": [],
   "source": [
    "#Importat numpy y matplotlib.pyplot\n",
    "import numpy as np\n",
    "import matplotlib.pyplot as plt"
   ]
  },
  {
   "cell_type": "code",
   "execution_count": 2,
   "metadata": {},
   "outputs": [],
   "source": [
    "#Definir funciones de restricción y de costo\n",
    "def res1(x1):\n",
    "    return (300-2*x1)/7\n",
    "\n",
    "def res2(x1):\n",
    "    return (270-3*x1)/3\n",
    "\n",
    "def f_costo(x1,x2):\n",
    "    return 200*x1+600*x2"
   ]
  },
  {
   "cell_type": "code",
   "execution_count": 3,
   "metadata": {},
   "outputs": [],
   "source": [
    "#Evaluar funciones\n",
    "x1 = np.linspace(0,100,200)\n",
    "\n",
    "R1 = res1(x1)\n",
    "R2 = res2(x1)"
   ]
  },
  {
   "cell_type": "code",
   "execution_count": 4,
   "metadata": {
    "scrolled": false
   },
   "outputs": [
    {
     "data": {
      "image/png": "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\n",
      "text/plain": [
       "<Figure size 720x576 with 1 Axes>"
      ]
     },
     "metadata": {},
     "output_type": "display_data"
    }
   ],
   "source": [
    "#Graficar\n",
    "# Crear figura para graficar y definir el tamaño de la figura\n",
    "plt.figure(figsize=(10,8))\n",
    "\n",
    "#Graficar restricciones\n",
    "plt.plot(x1,R1,'k--',label = 'Res1')\n",
    "plt.plot(x1,R2,'b',label = 'Res2')\n",
    "\n",
    "#Dar formato a la gráfica\n",
    "plt.xlabel(\"$x_1$\",fontsize=25)\n",
    "plt.ylabel(\"$x_2$\",fontsize=15)\n",
    "plt.legend(loc='best')\n",
    "plt.grid()\n",
    "plt.show()"
   ]
  },
  {
   "cell_type": "code",
   "execution_count": 5,
   "metadata": {},
   "outputs": [
    {
     "data": {
      "text/plain": [
       "(25714.285714285714, 18000.0, 27600)"
      ]
     },
     "execution_count": 5,
     "metadata": {},
     "output_type": "execute_result"
    }
   ],
   "source": [
    "#Evaluar función de costo y comparar\n",
    "f_costo(0,300/7), f_costo(270/3,0), f_costo(66,24)"
   ]
  },
  {
   "cell_type": "code",
   "execution_count": 6,
   "metadata": {},
   "outputs": [],
   "source": [
    "#Volver a graficar con solución\n"
   ]
  },
  {
   "cell_type": "markdown",
   "metadata": {},
   "source": [
    "**Actividad.** Mónica hace aretes y cadenitas de joyería. Es tan buena, que todo lo que hace lo vende.\n",
    "\n",
    "Le toma 30 minutos hacer un par de aretes y una hora hacer una cadenita, y como Mónica también es estudihambre, solo dispone de 10 horas a la semana para hacer las joyas. Por otra parte, el material que compra solo le alcanza para hacer 15 unidades (el par de aretes cuenta como unidad) de joyas por semana.\n",
    "\n",
    "La utilidad que le deja la venta de las joyas es $\\$15$ en cada par de aretes y $\\$20$ en cada cadenita.\n",
    "\n",
    "¿Cuántos pares de aretes y cuántas cadenitas debería hacer Mónica para maximizar su utilidad?\n",
    "\n",
    "Formular el problema en la forma explicada y obtener la solución gráfica (puede ser a mano).\n",
    "\n",
    "**Diez minutos: quien primero lo haga, pasará a explicarlo al tablero y le subiré la nota de alguna tarea a 100. Debe salir a explicar el problema.**"
   ]
  },
  {
   "cell_type": "markdown",
   "metadata": {},
   "source": [
    "## 4. ¿Cómo se resuelve en python?\n",
    "\n",
    "### 4.1 Librería `SciPy`\n",
    "\n",
    "<img style=\"float: right; margin: 0px 0px 15px 15px;\" src=\"https://scipy.org/_static/images/scipy_med.png\" width=\"200px\" height=\"75px\" />\n",
    "\n",
    "`SciPy` es un software de código abierto basado en `Python` para matemáticas, ciencia e ingeniería. \n",
    "\n",
    "En particular, los siguientes son algunos de los paquetes básicos:\n",
    "- `NumPy`\n",
    "- `SymPy`\n",
    "- `matplotlib`\n",
    "- **Librería `SciPy`**\n",
    "- `pandas`\n",
    "\n",
    "La **Librería `SciPy`** es uno de los paquetes principales y provee varias rutinas numéricas eficientes. Entre ellas, para integración numérica y optimización.\n",
    "\n",
    "En esta clase, y en lo que resta del módulo, estaremos utilizando el módulo `optimize` de la librería `SciPy`.\n",
    "\n",
    "**Importémoslo**"
   ]
  },
  {
   "cell_type": "code",
   "execution_count": 7,
   "metadata": {},
   "outputs": [],
   "source": [
    "# Importar el módulo optimize de la librería scipy\n",
    "import scipy.optimize as opt"
   ]
  },
  {
   "cell_type": "markdown",
   "metadata": {},
   "source": [
    "El módulo `optimize` que acabamos de importar contiene varias funciones para optimización y búsqueda de raices ($f(x)=0$). Entre ellas se encuentra la función `linprog`"
   ]
  },
  {
   "cell_type": "code",
   "execution_count": 24,
   "metadata": {},
   "outputs": [
    {
     "name": "stdout",
     "output_type": "stream",
     "text": [
      "Help on function linprog in module scipy.optimize._linprog:\n",
      "\n",
      "linprog(c, A_ub=None, b_ub=None, A_eq=None, b_eq=None, bounds=None, method='simplex', callback=None, options=None)\n",
      "    Minimize a linear objective function subject to linear\n",
      "    equality and inequality constraints.\n",
      "    \n",
      "    Linear Programming is intended to solve the following problem form::\n",
      "    \n",
      "        Minimize:     c^T * x\n",
      "    \n",
      "        Subject to:   A_ub * x <= b_ub\n",
      "                      A_eq * x == b_eq\n",
      "    \n",
      "    Parameters\n",
      "    ----------\n",
      "    c : array_like\n",
      "        Coefficients of the linear objective function to be minimized.\n",
      "    A_ub : array_like, optional\n",
      "        2-D array which, when matrix-multiplied by ``x``, gives the values of\n",
      "        the upper-bound inequality constraints at ``x``.\n",
      "    b_ub : array_like, optional\n",
      "        1-D array of values representing the upper-bound of each inequality\n",
      "        constraint (row) in ``A_ub``.\n",
      "    A_eq : array_like, optional\n",
      "        2-D array which, when matrix-multiplied by ``x``, gives the values of\n",
      "        the equality constraints at ``x``.\n",
      "    b_eq : array_like, optional\n",
      "        1-D array of values representing the RHS of each equality constraint\n",
      "        (row) in ``A_eq``.\n",
      "    bounds : sequence, optional\n",
      "        ``(min, max)`` pairs for each element in ``x``, defining\n",
      "        the bounds on that parameter. Use None for one of ``min`` or\n",
      "        ``max`` when there is no bound in that direction. By default\n",
      "        bounds are ``(0, None)`` (non-negative)\n",
      "        If a sequence containing a single tuple is provided, then ``min`` and\n",
      "        ``max`` will be applied to all variables in the problem.\n",
      "    method : str, optional\n",
      "        Type of solver.  :ref:`'simplex' <optimize.linprog-simplex>`\n",
      "        and :ref:`'interior-point' <optimize.linprog-interior-point>`\n",
      "        are supported.\n",
      "    callback : callable, optional (simplex only)\n",
      "        If a callback function is provide, it will be called within each\n",
      "        iteration of the simplex algorithm. The callback must have the\n",
      "        signature ``callback(xk, **kwargs)`` where ``xk`` is the current\n",
      "        solution vector and ``kwargs`` is a dictionary containing the\n",
      "        following::\n",
      "    \n",
      "            \"tableau\" : The current Simplex algorithm tableau\n",
      "            \"nit\" : The current iteration.\n",
      "            \"pivot\" : The pivot (row, column) used for the next iteration.\n",
      "            \"phase\" : Whether the algorithm is in Phase 1 or Phase 2.\n",
      "            \"basis\" : The indices of the columns of the basic variables.\n",
      "    \n",
      "    options : dict, optional\n",
      "        A dictionary of solver options. All methods accept the following\n",
      "        generic options:\n",
      "    \n",
      "            maxiter : int\n",
      "                Maximum number of iterations to perform.\n",
      "            disp : bool\n",
      "                Set to True to print convergence messages.\n",
      "    \n",
      "        For method-specific options, see :func:`show_options('linprog')`.\n",
      "    \n",
      "    Returns\n",
      "    -------\n",
      "    A `scipy.optimize.OptimizeResult` consisting of the following fields:\n",
      "    \n",
      "        x : ndarray\n",
      "            The independent variable vector which optimizes the linear\n",
      "            programming problem.\n",
      "        fun : float\n",
      "            Value of the objective function.\n",
      "        slack : ndarray\n",
      "            The values of the slack variables.  Each slack variable corresponds\n",
      "            to an inequality constraint.  If the slack is zero, then the\n",
      "            corresponding constraint is active.\n",
      "        success : bool\n",
      "            Returns True if the algorithm succeeded in finding an optimal\n",
      "            solution.\n",
      "        status : int\n",
      "            An integer representing the exit status of the optimization::\n",
      "    \n",
      "                 0 : Optimization terminated successfully\n",
      "                 1 : Iteration limit reached\n",
      "                 2 : Problem appears to be infeasible\n",
      "                 3 : Problem appears to be unbounded\n",
      "    \n",
      "        nit : int\n",
      "            The number of iterations performed.\n",
      "        message : str\n",
      "            A string descriptor of the exit status of the optimization.\n",
      "    \n",
      "    See Also\n",
      "    --------\n",
      "    show_options : Additional options accepted by the solvers\n",
      "    \n",
      "    Notes\n",
      "    -----\n",
      "    This section describes the available solvers that can be selected by the\n",
      "    'method' parameter. The default method\n",
      "    is :ref:`Simplex <optimize.linprog-simplex>`.\n",
      "    :ref:`Interior point <optimize.linprog-interior-point>` is also available.\n",
      "    \n",
      "    Method *simplex* uses the simplex algorithm (as it relates to linear\n",
      "    programming, NOT the Nelder-Mead simplex) [1]_, [2]_. This algorithm\n",
      "    should be reasonably reliable and fast for small problems.\n",
      "    \n",
      "    .. versionadded:: 0.15.0\n",
      "    \n",
      "    Method *interior-point* uses the primal-dual path following algorithm\n",
      "    as outlined in [4]_. This algorithm is intended to provide a faster\n",
      "    and more reliable alternative to *simplex*, especially for large,\n",
      "    sparse problems. Note, however, that the solution returned may be slightly\n",
      "    less accurate than that of the simplex method and may not correspond with a\n",
      "    vertex of the polytope defined by the constraints.\n",
      "    \n",
      "    References\n",
      "    ----------\n",
      "    .. [1] Dantzig, George B., Linear programming and extensions. Rand\n",
      "           Corporation Research Study Princeton Univ. Press, Princeton, NJ,\n",
      "           1963\n",
      "    .. [2] Hillier, S.H. and Lieberman, G.J. (1995), \"Introduction to\n",
      "           Mathematical Programming\", McGraw-Hill, Chapter 4.\n",
      "    .. [3] Bland, Robert G. New finite pivoting rules for the simplex method.\n",
      "           Mathematics of Operations Research (2), 1977: pp. 103-107.\n",
      "    .. [4] Andersen, Erling D., and Knud D. Andersen. \"The MOSEK interior point\n",
      "           optimizer for linear programming: an implementation of the\n",
      "           homogeneous algorithm.\" High performance optimization. Springer US,\n",
      "           2000. 197-232.\n",
      "    .. [5] Andersen, Erling D. \"Finding all linearly dependent rows in\n",
      "           large-scale linear programming.\" Optimization Methods and Software\n",
      "           6.3 (1995): 219-227.\n",
      "    .. [6] Freund, Robert M. \"Primal-Dual Interior-Point Methods for Linear\n",
      "           Programming based on Newton's Method.\" Unpublished Course Notes,\n",
      "           March 2004. Available 2/25/2017 at\n",
      "           https://ocw.mit.edu/courses/sloan-school-of-management/15-084j-nonlinear-programming-spring-2004/lecture-notes/lec14_int_pt_mthd.pdf\n",
      "    .. [7] Fourer, Robert. \"Solving Linear Programs by Interior-Point Methods.\"\n",
      "           Unpublished Course Notes, August 26, 2005. Available 2/25/2017 at\n",
      "           http://www.4er.org/CourseNotes/Book%20B/B-III.pdf\n",
      "    .. [8] Andersen, Erling D., and Knud D. Andersen. \"Presolving in linear\n",
      "           programming.\" Mathematical Programming 71.2 (1995): 221-245.\n",
      "    .. [9] Bertsimas, Dimitris, and J. Tsitsiklis. \"Introduction to linear\n",
      "           programming.\" Athena Scientific 1 (1997): 997.\n",
      "    .. [10] Andersen, Erling D., et al. Implementation of interior point\n",
      "            methods for large scale linear programming. HEC/Universite de\n",
      "            Geneve, 1996.\n",
      "    \n",
      "    Examples\n",
      "    --------\n",
      "    Consider the following problem:\n",
      "    \n",
      "    Minimize: f = -1*x[0] + 4*x[1]\n",
      "    \n",
      "    Subject to: -3*x[0] + 1*x[1] <= 6\n",
      "                 1*x[0] + 2*x[1] <= 4\n",
      "                            x[1] >= -3\n",
      "    \n",
      "    where:  -inf <= x[0] <= inf\n",
      "    \n",
      "    This problem deviates from the standard linear programming problem.\n",
      "    In standard form, linear programming problems assume the variables x are\n",
      "    non-negative.  Since the variables don't have standard bounds where\n",
      "    0 <= x <= inf, the bounds of the variables must be explicitly set.\n",
      "    \n",
      "    There are two upper-bound constraints, which can be expressed as\n",
      "    \n",
      "    dot(A_ub, x) <= b_ub\n",
      "    \n",
      "    The input for this problem is as follows:\n",
      "    \n",
      "    >>> c = [-1, 4]\n",
      "    >>> A = [[-3, 1], [1, 2]]\n",
      "    >>> b = [6, 4]\n",
      "    >>> x0_bounds = (None, None)\n",
      "    >>> x1_bounds = (-3, None)\n",
      "    >>> from scipy.optimize import linprog\n",
      "    >>> res = linprog(c, A_ub=A, b_ub=b, bounds=(x0_bounds, x1_bounds),\n",
      "    ...               options={\"disp\": True})\n",
      "    Optimization terminated successfully.\n",
      "         Current function value: -22.000000\n",
      "         Iterations: 1\n",
      "    >>> print(res)\n",
      "         fun: -22.0\n",
      "     message: 'Optimization terminated successfully.'\n",
      "         nit: 1\n",
      "       slack: array([39.,  0.])\n",
      "      status: 0\n",
      "     success: True\n",
      "           x: array([10., -3.])\n",
      "    \n",
      "    Note the actual objective value is 11.428571.  In this case we minimized\n",
      "    the negative of the objective function.\n",
      "\n"
     ]
    }
   ],
   "source": [
    "# Función linprog del módulo optimize\n",
    "help(opt.linprog)"
   ]
  },
  {
   "cell_type": "markdown",
   "metadata": {},
   "source": [
    "la cual resuelve problemas como los que aprendimos a plantear.\n",
    "\n",
    "Parámetros importantes:\n",
    "+ c: Vector con los coeficientes de función de costo (objetivo) lineal a minimizar.\n",
    "+ A_ub: Matriz con los coeficientes de $x$ de la  restricción de desigualdad.\n",
    "+ b_ub: Vector que representa los valores de cada restricción de desigualdad.\n",
    "+ A_eq: Matriz con los coeficientes de $x$ de la  restricción de igualdad.\n",
    "+ b_eq: Vector que representa los valores de cada restricción de igualdad.\n",
    "+ bounds: (min, max) pares de cada elemento en $x$ definiendo las cotas mìnimas y màximas correspondientes. Por default $(0, None)$, no-negativo."
   ]
  },
  {
   "cell_type": "markdown",
   "metadata": {},
   "source": [
    "### 4.2 Solución del ejemplo básico con linprog\n",
    "Ya hicimos la solución gráfica. Contrastemos con la solución que nos da `linprog`...\n",
    "\n",
    "- $\\boldsymbol{c}=\\left[0.6 \\quad 0.2\\right]^\\top$,\n",
    "- $\\boldsymbol{A}=\\left[\\begin{array}{cc}-0.3 & -0.05 \\\\ -0.01 & -0.07\\\\ -0.1 & -0.1\\end{array}\\right]$, y\n",
    "- $\\boldsymbol{b}=\\left[-25 \\quad -6\\quad -30\\right]^\\top$."
   ]
  },
  {
   "cell_type": "code",
   "execution_count": 25,
   "metadata": {},
   "outputs": [],
   "source": [
    "# Importar numpy para crear las matrices\n",
    "import numpy as np"
   ]
  },
  {
   "cell_type": "code",
   "execution_count": 26,
   "metadata": {},
   "outputs": [],
   "source": [
    "# Crear las matrices para resolver el problema\n",
    "c = np.array([-200,-600])\n",
    "\n",
    "b = np.array([300,270])\n",
    "\n",
    "A = np.array([[2,7],\n",
    "              [3,3]])"
   ]
  },
  {
   "cell_type": "code",
   "execution_count": 29,
   "metadata": {},
   "outputs": [
    {
     "data": {
      "text/plain": [
       "array([-200, -600])"
      ]
     },
     "execution_count": 29,
     "metadata": {},
     "output_type": "execute_result"
    }
   ],
   "source": [
    "c"
   ]
  },
  {
   "cell_type": "code",
   "execution_count": 30,
   "metadata": {},
   "outputs": [],
   "source": [
    "# Resolver utilizando linprog\n",
    "resultado = opt.linprog(c,A_ub=A,b_ub=b)"
   ]
  },
  {
   "cell_type": "code",
   "execution_count": 31,
   "metadata": {},
   "outputs": [
    {
     "data": {
      "text/plain": [
       "     fun: -27600.0\n",
       " message: 'Optimization terminated successfully.'\n",
       "     nit: 2\n",
       "   slack: array([0., 0.])\n",
       "  status: 0\n",
       " success: True\n",
       "       x: array([66., 24.])"
      ]
     },
     "execution_count": 31,
     "metadata": {},
     "output_type": "execute_result"
    }
   ],
   "source": [
    "# Mostrar el resultado\n",
    "resultado"
   ]
  },
  {
   "cell_type": "code",
   "execution_count": 34,
   "metadata": {},
   "outputs": [
    {
     "data": {
      "text/plain": [
       "array([66., 24.])"
      ]
     },
     "execution_count": 34,
     "metadata": {},
     "output_type": "execute_result"
    }
   ],
   "source": [
    "# Extraer el vector solución\n",
    "x = resultado.x\n",
    "x"
   ]
  },
  {
   "cell_type": "markdown",
   "metadata": {},
   "source": [
    "**Conclusión**\n",
    "- Para minimizar el costo del compuesto nutritivo basado en los productos $A$ y $B$, se debe producir $40$ gramos de $A$ y $260$ gramos de B.\n",
    "- Con esa producción, el  costo total del compuesto será de $76$ u.m."
   ]
  },
  {
   "cell_type": "markdown",
   "metadata": {},
   "source": [
    "**Actividad.** Resolver el ejemplo de Mónica y sus ventas con `linprog`"
   ]
  },
  {
   "cell_type": "code",
   "execution_count": 37,
   "metadata": {},
   "outputs": [],
   "source": [
    "# Definir matrices\n",
    "c = np.array([-15,-20])\n",
    "A = np.array([[30,60],\n",
    "              [1,1]]) \n",
    "b = np.array([600,15])"
   ]
  },
  {
   "cell_type": "code",
   "execution_count": 38,
   "metadata": {},
   "outputs": [],
   "source": [
    "# Resolver con el módulo linprog\n",
    "sol_Monica = opt.linprog(c,A_ub=A,b_ub=b)"
   ]
  },
  {
   "cell_type": "code",
   "execution_count": 39,
   "metadata": {},
   "outputs": [
    {
     "data": {
      "text/plain": [
       "     fun: -250.0\n",
       " message: 'Optimization terminated successfully.'\n",
       "     nit: 2\n",
       "   slack: array([0., 0.])\n",
       "  status: 0\n",
       " success: True\n",
       "       x: array([10.,  5.])"
      ]
     },
     "execution_count": 39,
     "metadata": {},
     "output_type": "execute_result"
    }
   ],
   "source": [
    "#Mostrar solución\n",
    "sol_Monica"
   ]
  },
  {
   "cell_type": "markdown",
   "metadata": {},
   "source": [
    "## 5. Problema de transporte 1\n",
    "- **Referencia**: http://bdigital.unal.edu.co/5037/4/guillermojimenezlozano.2006_Parte1.pdf\n",
    "\n",
    "Una  empresa tiene dos factorías A y B.  En ellas  se fabrica un determinado  producto, a razón de 500  y 400 unidades por día respectivamente.  El producto  ha  de  ser distribuido posteriormente  a  tres  centros  C,  D  y  E,  que  requieren,  respectivamente,  200,  300  y  400  unidades.  Los  costos  de  transportar cada unidad del producto desde cada factoría a cada centro distribuidor son los  indicados  en la tabla  siguiente: \n",
    "\n",
    "Factoría|C|D|E|Fabricación (Unidades)\n",
    ":----|----|----|----|----\n",
    "A|  50 u.m|60 u.m|10 u.m|500 u\n",
    "B|  25 u.m|40 u.m|20 u.m|400 u\n",
    "Demanda|200|300|400|\n",
    "\n",
    "**¿De qué manera  deben  organizar  el transporte a fin de que los gastos sean mínimos?**\n",
    "\n",
    "\n",
    "Formulemos el problema para ser resuelto por la programación lineal con\n",
    "- $x_1$: unidades transportadas de la factoría \"A\" al centro \"C\"\n",
    "- $x_2$: unidades transportadas de la factoría \"A\" al centro \"D\"\n",
    "- $x_3$: unidades transportadas de la factoría \"A\" al centro \"E\"\n",
    "- $x_4$: unidades transportadas de la factoría \"B\" al centro \"C\"\n",
    "- $x_5$: unidades transportadas de la factoría \"B\" al centro \"D\"\n",
    "- $x_6$: unidades transportadas de la factoría \"B\" al centro \"E\"\n",
    "\n",
    "se tienen las siguientes ecuaciones:\n",
    "\n",
    "Restricciones de la producción:\n",
    "\n",
    "- $x_1 + x_2 + x_3 \\leq 500$\n",
    "- $x_4 + x_5 + x_6 \\leq 400$\n",
    "\n",
    "Restricciones del consumo:\n",
    "\n",
    "- $x_1 + x_4 \\geq 200$\n",
    "- $x_2 + x_5 \\geq 300$\n",
    "- $x_3 + x_6 \\geq 400$\n",
    "\n",
    "La función objetivo será:\n",
    "\n",
    "$$\\min_{x_1,\\dots,x_6}50x_1 + 60x_2 + 10x_3 + 25x_4 + 40x_5 + 20x_6$$\n",
    "\n",
    "Resolver con `linprog`"
   ]
  },
  {
   "cell_type": "code",
   "execution_count": 43,
   "metadata": {},
   "outputs": [],
   "source": [
    "# Matrices y cotas\n",
    "c = np.array([50,60,10,25,40,20])\n",
    "F = np.array([[1,1,1,0,0,0],\n",
    "             [0,0,0,1,1,1],\n",
    "             [-1,0,0,-1,0,0],\n",
    "             [0,-1,0,0,-1,0],\n",
    "             [0,0,-1,0,0,-1]])\n",
    "d = np.array([500,400,-200,-300,-400])"
   ]
  },
  {
   "cell_type": "code",
   "execution_count": 44,
   "metadata": {},
   "outputs": [],
   "source": [
    "# Resolver\n",
    "sol_distri = opt.linprog(c,A_ub=F,b_ub=d)"
   ]
  },
  {
   "cell_type": "code",
   "execution_count": 45,
   "metadata": {},
   "outputs": [
    {
     "data": {
      "text/plain": [
       "     fun: 23000.0\n",
       " message: 'Optimization terminated successfully.'\n",
       "     nit: 6\n",
       "   slack: array([-0.,  0.,  0.,  0.,  0.])\n",
       "  status: 0\n",
       " success: True\n",
       "       x: array([  0., 100., 400., 200., 200.,   0.])"
      ]
     },
     "execution_count": 45,
     "metadata": {},
     "output_type": "execute_result"
    }
   ],
   "source": [
    "# Mostrar resultado\n",
    "sol_distri"
   ]
  },
  {
   "cell_type": "markdown",
   "metadata": {
    "collapsed": true
   },
   "source": [
    "**Conclusión**\n",
    "\n",
    "- La estrategia de menor costo es llevar $100$ unidades de la Factoría \"A\" al cento \"D\", $400$ unidades de la Factoría \"A\" al cento \"E\", $200$ unidades de la Factoría \"B\" al cento \"C\" y $200$ unidades de la Factoría \"B\" al cento \"D\". El costo total de esta estrategia de transporte es $23000$  u.m."
   ]
  },
  {
   "cell_type": "markdown",
   "metadata": {},
   "source": [
    "## 6. Optimización de inversión en bonos\n",
    "\n",
    "**Referencia:**"
   ]
  },
  {
   "cell_type": "code",
   "execution_count": 20,
   "metadata": {},
   "outputs": [
    {
     "data": {
      "image/jpeg": "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\n",
      "text/html": [
       "\n",
       "        <iframe\n",
       "            width=\"400\"\n",
       "            height=\"300\"\n",
       "            src=\"https://www.youtube.com/embed/gukxBus8lOs\"\n",
       "            frameborder=\"0\"\n",
       "            allowfullscreen\n",
       "        ></iframe>\n",
       "        "
      ],
      "text/plain": [
       "<IPython.lib.display.YouTubeVideo at 0x1ac48caefd0>"
      ]
     },
     "execution_count": 20,
     "metadata": {},
     "output_type": "execute_result"
    }
   ],
   "source": [
    "from IPython.display import YouTubeVideo\n",
    "YouTubeVideo('gukxBus8lOs')"
   ]
  },
  {
   "cell_type": "markdown",
   "metadata": {},
   "source": [
    "El objetivo de este problema es determinar la mejor estrategia de inversión, dados diferentes tipos de bono, la máxima cantidad que puede ser invertida en cada bono, el porcentaje de retorno y los años de madurez. También hay una cantidad fija de dinero disponible ($\\$750,000$). Por lo menos la mitad de este dinero debe ser invertido en bonos con 10 años o más para la madurez. Se puede invertir un máximo del $25\\%$ de esta cantidad en cada bono. Finalmente, hay otra restricción que no permite usar más de $35\\%$ en bonos de alto riesgo.\n",
    "\n",
    "Existen seis (6) opciones de inversión con las letras correspondientes $A_i$\n",
    "\n",
    "1. $A_1$:(Tasa de retorno=$8.65\\%$; Años para la madurez=11, Riesgo=Bajo)\n",
    "1. $A_2$:(Tasa de retorno=$9.50\\%$; Años para la madurez=10, Riesgo=Alto)\n",
    "1. $A_3$:(Tasa de retorno=$10.00\\%$; Años para la madurez=6, Riesgo=Alto)\n",
    "1. $A_4$:(Tasa de retorno=$8.75\\%$; Años para la madurez=10, Riesgo=Bajo)\n",
    "1. $A_5$:(Tasa de retorno=$9.25\\%$; Años para la madurez=7, Riesgo=Alto)\n",
    "1. $A_6$:(Tasa de retorno=$9.00\\%$; Años para la madurez=13, Riesgo=Bajo)\n",
    "\n",
    "Lo que se quiere entonces es maximizar el retorno que deja la inversión.\n",
    "\n",
    "Este problema puede ser resuelto con programación lineal. Formalmente, puede ser descrito como:\n",
    "\n",
    "$$\\max_{A_1,A_2,...,A_6}\\sum^{6}_{i=1} A_iR_i,$$\n",
    "\n",
    "donde $A_i$ representa la cantidad invertida en la opción, y $R_i$ representa la tasa de retorno respectiva."
   ]
  },
  {
   "cell_type": "markdown",
   "metadata": {},
   "source": [
    "Plantear restricciones..."
   ]
  },
  {
   "cell_type": "code",
   "execution_count": 48,
   "metadata": {},
   "outputs": [],
   "source": [
    "# Matrices y cotas\n",
    "c = -np.array([8.65,9.5,10,8.75,9.25,9])/100\n",
    "A = np.array([[1,1,1,1,1,1],\n",
    "              [-1,-1,0,-1,0,-1],\n",
    "             [0,1,1,0,1,0]])\n",
    "b = np.array([750000,-750000/2,0.35*750000])\n",
    "\n",
    "xi_bounds = (0,750000/4)"
   ]
  },
  {
   "cell_type": "code",
   "execution_count": 49,
   "metadata": {},
   "outputs": [],
   "source": [
    "# Resolver\n",
    "sol_inver_bonos = opt.linprog(c,A_ub=A,b_ub=b,bounds=xi_bounds)"
   ]
  },
  {
   "cell_type": "code",
   "execution_count": 50,
   "metadata": {},
   "outputs": [
    {
     "data": {
      "text/plain": [
       "     fun: -68887.5\n",
       " message: 'Optimization terminated successfully.'\n",
       "     nit: 7\n",
       "   slack: array([     0., 187500.,      0.,  75000.,      0.,      0., 187500.,\n",
       "            0.,      0.])\n",
       "  status: 0\n",
       " success: True\n",
       "       x: array([112500.,  75000., 187500., 187500.,      0., 187500.])"
      ]
     },
     "execution_count": 50,
     "metadata": {},
     "output_type": "execute_result"
    }
   ],
   "source": [
    "# Mostrar resultado\n",
    "sol_inver_bonos"
   ]
  },
  {
   "cell_type": "markdown",
   "metadata": {},
   "source": [
    "Recordar que en el problema minimizamos $-\\sum^{6}_{i=1} A_iR_i$. El rendimiento obtenido es entonces:"
   ]
  },
  {
   "cell_type": "code",
   "execution_count": null,
   "metadata": {},
   "outputs": [],
   "source": []
  },
  {
   "cell_type": "markdown",
   "metadata": {},
   "source": [
    "**Conclusión**\n",
    "\n",
    "- "
   ]
  },
  {
   "cell_type": "markdown",
   "metadata": {},
   "source": [
    "## 7. Tarea \n",
    "\n",
    "### 7.1. Diseño de la Dieta Óptima\n",
    "\n",
    "Se quiere producir comida para gatos de la manera más barata, no obstante se debe también asegurar que se cumplan los datos requeridos de analisis nutricional. Por lo que se quiere variar la cantidad de cada ingrediente para cumplir con los estandares nutricionales. Los requisitos que se tienen es que en $100$ gramos, se deben tener **por lo menos** $8$ gramos de proteína y $6$ gramos de grasa. Así mismo, no se debe tener más de $2$ gramos de fibra y $0.4$ gramos de sal.  \n",
    "\n",
    "Los datos nutricionales se pueden obtener de la siguiente tabla:\n",
    "\n",
    "Ingrediente|Proteína|Grasa|Fibra|Sal\n",
    ":----|----|----|----|----\n",
    "Pollo|  10.0%|08.0%|00.1%|00.2%\n",
    "Carne|  20.0%|10.0%|00.5%|00.5%\n",
    "Cordero|15.0%|11.0%|00.5%|00.7%\n",
    "Arroz|  00.0%|01.0%|10.0%|00.2%\n",
    "Trigo|  04.0%|01.0%|15.0%|00.8%\n",
    "Gel|    00.0%|00.0%|00.0%|00.0%\n",
    "\n",
    "Los costos de cada producto son:\n",
    "\n",
    "Ingrediente|Costo por gramo\n",
    ":----|----\n",
    "Pollo|$\\$$0.013\n",
    "Carne|$\\$$0.008\n",
    "Cordero|$\\$$0.010\n",
    "Arroz|$\\$$0.002\n",
    "Trigo|$\\$$0.005\n",
    "Gel|$\\$$0.001    \n",
    "\n",
    "Lo que se busca optimizar en este caso es la cantidad de productos que se debe utilizar en la comida de gato, minimizando el costo total. Para simplificar la notación use las siguientes variables: \n",
    "\n",
    "+ $x_1:$ Gramos de pollo  \n",
    "+ $x_2:$ Gramos de carne  \n",
    "+ $x_3:$ Gramos de cordero  \n",
    "+ $x_4:$ Gramos de arroz  \n",
    "+ $x_5:$ Gramos de trigo  \n",
    "+ $x_6:$ Gramos de gel\n",
    "\n",
    "La tarea consiste en plantear el problemade programación lineal que permita satisfacer las necesidades alimenticias del gato al tiempo que minimice el costo total y resolverlo con `linprog`."
   ]
  },
  {
   "cell_type": "markdown",
   "metadata": {},
   "source": [
    "### 7.2. Otro problema de distribución (de energía eléctrica)\n",
    "\n",
    "La Comisión Federal de Electricidad **(CFE)** dispone de cuatro plantas de generación para satisfacer la demanda diaria eléctrica en cuatro ciudades, Guadalajara, León y Morelia. Las plantas $1$, $2$ y $3$ pueden satisfacer $80$, $40$ y $60$ millones de KW al día respectivamente. Las necesidades de las ciudades de Guadalajara, León y Morelia son de $70$, $40$ y $70$ millones de Kw al día respectivamente. \n",
    "\n",
    "\n",
    "Los costos asociados al envío de suministro energético por cada millón de Kw entre cada planta y cada ciudad son los registrados en la siguiente tabla. \n",
    "\n",
    "-|Guadalajara|León|Morelia\n",
    ":----|----|----|----\n",
    "Planta 1|5|2|7\n",
    "Planta 2|3|6|6\n",
    "Planta 3|6|1|2\n",
    "\n",
    "Y por último, las restricciones del problema, van a estar dadas por las capacidades de oferta y demanda de cada planta (en millones de KW) y cada ciudad.\n",
    "\n",
    "Para simplificar la notación use las siguientes variables:\n",
    "\n",
    "+ $x_1$: Kw (en millones) distribuidos de la Planta 1 a Guadalajara\n",
    "+ $x_2$: Kw (en millones) distribuidos de la Planta 1 a León\n",
    "+ $x_3$: Kw (en millones) distribuidos de la Planta 1 a Morelia\n",
    "+ $x_4$: Kw (en millones) distribuidos de la Planta 2 a Guadalajara\n",
    "+ $x_5$: Kw (en millones) distribuidos de la Planta 2 a León\n",
    "+ $x_6$: Kw (en millones) distribuidos de la Planta 2 a Morelia\n",
    "+ $x_7$: Kw (en millones) distribuidos de la Planta 3 a Guadalajara\n",
    "+ $x_8$: Kw (en millones) distribuidos de la Planta 3 a León\n",
    "+ $x_9$: Kw (en millones) distribuidos de la Planta 3 a Morelia\n",
    "\n",
    "La tarea consiste en plantear el problema de programación lineal que permita satisfacer las necesidades de todas las ciudades al tiempo que minimice los costos asociados a la distribución y resolverlo con `linprog`."
   ]
  },
  {
   "cell_type": "markdown",
   "metadata": {},
   "source": [
    "Deben crear un notebook de jupyter (archivo .ipynb) y llamarlo PrimerApellido_PrimerNombre, y subirlo a moodle.\n",
    "\n",
    "**Definir fecha**"
   ]
  },
  {
   "cell_type": "markdown",
   "metadata": {},
   "source": [
    "<script>\n",
    "  $(document).ready(function(){\n",
    "    $('div.prompt').hide();\n",
    "    $('div.back-to-top').hide();\n",
    "    $('nav#menubar').hide();\n",
    "    $('.breadcrumb').hide();\n",
    "    $('.hidden-print').hide();\n",
    "  });\n",
    "</script>\n",
    "\n",
    "<footer id=\"attribution\" style=\"float:right; color:#808080; background:#fff;\">\n",
    "Created with Jupyter by Cristian Camilo Zapata Zuluaga\n",
    "</footer>"
   ]
  }
 ],
 "metadata": {
  "kernelspec": {
   "display_name": "Python 3",
   "language": "python",
   "name": "python3"
  },
  "language_info": {
   "codemirror_mode": {
    "name": "ipython",
    "version": 3
   },
   "file_extension": ".py",
   "mimetype": "text/x-python",
   "name": "python",
   "nbconvert_exporter": "python",
   "pygments_lexer": "ipython3",
<<<<<<< HEAD
   "version": "3.7.3"
=======
   "version": "3.6.5"
>>>>>>> master
  }
 },
 "nbformat": 4,
 "nbformat_minor": 2
}
